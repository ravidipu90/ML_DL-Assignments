{
 "cells": [
  {
   "cell_type": "code",
   "execution_count": null,
   "metadata": {},
   "outputs": [],
   "source": [
    "!ls"
   ]
  },
  {
   "cell_type": "code",
   "execution_count": null,
   "metadata": {},
   "outputs": [],
   "source": [
    "!python3 pytorch_pix2pix.py"
   ]
  },
  {
   "cell_type": "code",
   "execution_count": 2,
   "metadata": {},
   "outputs": [
    {
     "name": "stdout",
     "output_type": "stream",
     "text": [
      "Namespace(dataset='maps', input_size=256, inverse_order=True, ngf=64, save_root='results', test_subfolder='val')\n",
      "test start!\n",
      "pytorch_pix2pix_test.py:46: UserWarning: volatile was removed and now has no effect. Use `with torch.no_grad():` instead.\n",
      "  x_ = Variable(x_.cuda(), volatile=True)\n",
      "1098 images generation complete!\n"
     ]
    }
   ],
   "source": [
    "!python3 pytorch_pix2pix_test.py"
   ]
  },
  {
   "cell_type": "code",
   "execution_count": 3,
   "metadata": {},
   "outputs": [
    {
     "name": "stdout",
     "output_type": "stream",
     "text": [
      "Cloning into 'pytorch-CycleGAN-and-pix2pix'...\n",
      "remote: Enumerating objects: 2337, done.\u001b[K\n",
      "remote: Total 2337 (delta 0), reused 0 (delta 0), pack-reused 2337\u001b[K\n",
      "Receiving objects: 100% (2337/2337), 8.09 MiB | 4.96 MiB/s, done.\n",
      "Resolving deltas: 100% (1499/1499), done.\n"
     ]
    }
   ],
   "source": [
    "!git clone https://github.com/junyanz/pytorch-CycleGAN-and-pix2pix.git"
   ]
  },
  {
   "cell_type": "code",
   "execution_count": null,
   "metadata": {},
   "outputs": [],
   "source": []
  }
 ],
 "metadata": {
  "kernelspec": {
   "display_name": "Python 3",
   "language": "python",
   "name": "python3"
  },
  "language_info": {
   "codemirror_mode": {
    "name": "ipython",
    "version": 3
   },
   "file_extension": ".py",
   "mimetype": "text/x-python",
   "name": "python",
   "nbconvert_exporter": "python",
   "pygments_lexer": "ipython3",
   "version": "3.6.8"
  }
 },
 "nbformat": 4,
 "nbformat_minor": 4
}
