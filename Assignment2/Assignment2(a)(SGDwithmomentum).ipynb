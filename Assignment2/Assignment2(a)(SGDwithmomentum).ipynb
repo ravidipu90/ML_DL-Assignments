{
 "cells": [
  {
   "cell_type": "code",
   "execution_count": 6,
   "metadata": {},
   "outputs": [],
   "source": [
    "import pickle\n",
    "import torch\n",
    "import torch.nn as nn\n",
    "import torch.optim as optim\n",
    "from torch.utils.data import DataLoader\n",
    "import torch.nn.functional as F\n",
    "import torchvision.transforms as transforms\n",
    "import torchvision\n",
    "\n",
    "# Function to unpack the cifar-10 dataset.\n",
    "def unpickle(file):\n",
    "    with open(file, 'rb') as file:\n",
    "        data = pickle.load(file, encoding='bytes')\n",
    "    return data[b'data'], data[b'labels']"
   ]
  },
  {
   "cell_type": "code",
   "execution_count": 7,
   "metadata": {},
   "outputs": [],
   "source": [
    "import os\n",
    "from torch.utils.data import Dataset\n",
    "#from utils import unpickle\n",
    "\n",
    "\n",
    "class LoadTrainingData(Dataset):\n",
    "    def __init__(self):\n",
    "        self.trainX = []\n",
    "        self.trainY = []\n",
    "\n",
    "        data_dir = './cifar-10/training batches'\n",
    "        batches = os.listdir(data_dir)\n",
    "\n",
    "        for batch in batches:\n",
    "            batch_data, batch_labels = unpickle(os.path.join(data_dir, batch))\n",
    "            self.trainX.extend(batch_data)\n",
    "            self.trainY.extend(batch_labels)\n",
    "\n",
    "    def __getitem__(self, item):\n",
    "        return self.trainX[item], self.trainY[item]\n",
    "\n",
    "    def __len__(self):\n",
    "        return len(self.trainX)"
   ]
  },
  {
   "cell_type": "code",
   "execution_count": 8,
   "metadata": {},
   "outputs": [
    {
     "name": "stdout",
     "output_type": "stream",
     "text": [
      "Files already downloaded and verified\n",
      "Files already downloaded and verified\n"
     ]
    }
   ],
   "source": [
    "data_dir = './cifar-10/'\n",
    "b_size=128\n",
    "transform_train = transforms.Compose([\n",
    "    transforms.ToTensor(),\n",
    "    transforms.Normalize((0.4914, 0.4822, 0.4465), (0.2023, 0.1994, 0.2010)),\n",
    "])\n",
    "\n",
    "# Normalize the test set same as training set without augmentation\n",
    "transform_test = transforms.Compose([\n",
    "    transforms.ToTensor(),\n",
    "    transforms.Normalize((0.4914, 0.4822, 0.4465), (0.2023, 0.1994, 0.2010)),\n",
    "])\n",
    "\n",
    "trainset = torchvision.datasets.CIFAR10(root=data_dir, train=True, download=True, transform=transform_train)\n",
    "trainloader = torch.utils.data.DataLoader(trainset, batch_size=b_size, shuffle=True, num_workers=2)\n",
    "\n",
    "testset = torchvision.datasets.CIFAR10(root=data_dir, train=False, download=True, transform=transform_test)\n",
    "testloader = torch.utils.data.DataLoader(testset, batch_size=1, shuffle=False, num_workers=2)"
   ]
  },
  {
   "cell_type": "code",
   "execution_count": 9,
   "metadata": {},
   "outputs": [],
   "source": [
    "class classifier(nn.Module):\n",
    "    def __init__(self):\n",
    "        super(classifier, self).__init__()\n",
    "        self.conv1 = nn.Conv2d(3, 16, kernel_size=3,padding=1,stride=1)\n",
    "        self.bn1   = nn.BatchNorm2d(16)\n",
    "        self.conv2 = nn.Conv2d(16, 32, kernel_size=3,padding=1,stride=1)\n",
    "        self.bn2   = nn.BatchNorm2d(32)\n",
    "        self.conv3 = nn.Conv2d(32, 64, kernel_size=3,padding=1,stride=1)\n",
    "        self.bn3   = nn.BatchNorm2d(64)\n",
    "        self.conv4 = nn.Conv2d(64, 128, kernel_size=3,padding=1,stride=1)\n",
    "        self.bn4   = nn.BatchNorm2d(128)\n",
    "        self.conv5 = nn.Conv2d(128, 256, kernel_size=3,padding=1,stride=1)\n",
    "        self.bn5   = nn.BatchNorm2d(256)\n",
    "        self.conv6 = nn.Conv2d(256, 512, kernel_size=3,padding=1,stride=1)\n",
    "        self.bn6   = nn.BatchNorm2d(512)\n",
    "        \n",
    "        self.pool = nn.MaxPool2d(kernel_size=2, stride=2)\n",
    "        self.fc1 = nn.Linear(512, 10)\n",
    "\n",
    "    def forward(self, x):\n",
    "        x = F.relu(self.bn1(self.conv1(x)))\n",
    "        x = self.pool(x)\n",
    "        x = F.relu(self.bn2(self.conv2(x)))\n",
    "        x = self.pool(x)\n",
    "        x = F.relu(self.bn3(self.conv3(x)))\n",
    "        x = self.pool(x)\n",
    "        x = F.relu(self.bn4(self.conv4(x)))\n",
    "        x = self.pool(x)\n",
    "        x = F.relu(self.bn5(self.conv5(x)))\n",
    "        x = self.pool(x)\n",
    "        x = F.relu(self.bn6(self.conv6(x)))\n",
    "\n",
    "        x = x.view(-1,512)\n",
    "        x = self.fc1(x)\n",
    "        return x"
   ]
  },
  {
   "cell_type": "code",
   "execution_count": 10,
   "metadata": {},
   "outputs": [
    {
     "data": {
      "text/plain": [
       "classifier(\n",
       "  (conv1): Conv2d(3, 16, kernel_size=(3, 3), stride=(1, 1), padding=(1, 1))\n",
       "  (bn1): BatchNorm2d(16, eps=1e-05, momentum=0.1, affine=True, track_running_stats=True)\n",
       "  (conv2): Conv2d(16, 32, kernel_size=(3, 3), stride=(1, 1), padding=(1, 1))\n",
       "  (bn2): BatchNorm2d(32, eps=1e-05, momentum=0.1, affine=True, track_running_stats=True)\n",
       "  (conv3): Conv2d(32, 64, kernel_size=(3, 3), stride=(1, 1), padding=(1, 1))\n",
       "  (bn3): BatchNorm2d(64, eps=1e-05, momentum=0.1, affine=True, track_running_stats=True)\n",
       "  (conv4): Conv2d(64, 128, kernel_size=(3, 3), stride=(1, 1), padding=(1, 1))\n",
       "  (bn4): BatchNorm2d(128, eps=1e-05, momentum=0.1, affine=True, track_running_stats=True)\n",
       "  (conv5): Conv2d(128, 256, kernel_size=(3, 3), stride=(1, 1), padding=(1, 1))\n",
       "  (bn5): BatchNorm2d(256, eps=1e-05, momentum=0.1, affine=True, track_running_stats=True)\n",
       "  (conv6): Conv2d(256, 512, kernel_size=(3, 3), stride=(1, 1), padding=(1, 1))\n",
       "  (bn6): BatchNorm2d(512, eps=1e-05, momentum=0.1, affine=True, track_running_stats=True)\n",
       "  (pool): MaxPool2d(kernel_size=2, stride=2, padding=0, dilation=1, ceil_mode=False)\n",
       "  (fc1): Linear(in_features=512, out_features=10, bias=True)\n",
       ")"
      ]
     },
     "execution_count": 10,
     "metadata": {},
     "output_type": "execute_result"
    }
   ],
   "source": [
    "cls=classifier()\n",
    "cls"
   ]
  },
  {
   "cell_type": "code",
   "execution_count": 12,
   "metadata": {},
   "outputs": [
    {
     "name": "stdout",
     "output_type": "stream",
     "text": [
      "-----[Epoch: 1, loss: 0.879467, Learning Rate: 0.003000]\n",
      "-----[Epoch: 2, loss: 1.026328, Learning Rate: 0.003000]\n",
      "-----[Epoch: 3, loss: 0.654360, Learning Rate: 0.003000]\n",
      "-----[Epoch: 4, loss: 0.779549, Learning Rate: 0.003000]\n",
      "-----[Epoch: 5, loss: 0.716274, Learning Rate: 0.003000]\n",
      "-----[Epoch: 6, loss: 0.504062, Learning Rate: 0.003000]\n",
      "-----[Epoch: 7, loss: 0.349010, Learning Rate: 0.003000]\n",
      "-----[Epoch: 8, loss: 0.552083, Learning Rate: 0.003000]\n",
      "-----[Epoch: 9, loss: 0.585998, Learning Rate: 0.003000]\n",
      "-----[Epoch: 10, loss: 0.328181, Learning Rate: 0.003000]\n",
      "-----[Epoch: 11, loss: 0.322883, Learning Rate: 0.003000]\n",
      "-----[Epoch: 12, loss: 0.301068, Learning Rate: 0.003000]\n",
      "-----[Epoch: 13, loss: 0.179362, Learning Rate: 0.003000]\n",
      "-----[Epoch: 14, loss: 0.239326, Learning Rate: 0.003000]\n",
      "-----[Epoch: 15, loss: 0.086837, Learning Rate: 0.003000]\n",
      "-----[Epoch: 16, loss: 0.237306, Learning Rate: 0.003000]\n",
      "-----[Epoch: 17, loss: 0.090725, Learning Rate: 0.003000]\n",
      "-----[Epoch: 18, loss: 0.127640, Learning Rate: 0.003000]\n",
      "-----[Epoch: 19, loss: 0.097865, Learning Rate: 0.003000]\n",
      "-----[Epoch: 20, loss: 0.040566, Learning Rate: 0.003000]\n",
      "-----[Epoch: 21, loss: 0.089422, Learning Rate: 0.003000]\n",
      "-----[Epoch: 22, loss: 0.084913, Learning Rate: 0.003000]\n",
      "-----[Epoch: 23, loss: 0.063155, Learning Rate: 0.003000]\n",
      "-----[Epoch: 24, loss: 0.039782, Learning Rate: 0.003000]\n",
      "-----[Epoch: 25, loss: 0.062293, Learning Rate: 0.003000]\n",
      "-----[Epoch: 26, loss: 0.016339, Learning Rate: 0.003000]\n",
      "-----[Epoch: 27, loss: 0.044121, Learning Rate: 0.003000]\n",
      "-----[Epoch: 28, loss: 0.013666, Learning Rate: 0.003000]\n",
      "-----[Epoch: 29, loss: 0.018258, Learning Rate: 0.003000]\n",
      "-----[Epoch: 30, loss: 0.002574, Learning Rate: 0.003000]\n",
      "-----[Epoch: 31, loss: 0.005254, Learning Rate: 0.003000]\n",
      "-----[Epoch: 32, loss: 0.004106, Learning Rate: 0.003000]\n",
      "-----[Epoch: 33, loss: 0.005400, Learning Rate: 0.003000]\n",
      "-----[Epoch: 34, loss: 0.002398, Learning Rate: 0.003000]\n",
      "-----[Epoch: 35, loss: 0.001699, Learning Rate: 0.003000]\n",
      "-----[Epoch: 36, loss: 0.005184, Learning Rate: 0.003000]\n",
      "-----[Epoch: 37, loss: 0.005581, Learning Rate: 0.003000]\n",
      "-----[Epoch: 38, loss: 0.003692, Learning Rate: 0.003000]\n",
      "-----[Epoch: 39, loss: 0.004607, Learning Rate: 0.003000]\n",
      "-----[Epoch: 40, loss: 0.001629, Learning Rate: 0.003000]\n",
      "-----[Epoch: 41, loss: 0.007649, Learning Rate: 0.003000]\n",
      "-----[Epoch: 42, loss: 0.000836, Learning Rate: 0.003000]\n",
      "-----[Epoch: 43, loss: 0.002506, Learning Rate: 0.003000]\n",
      "-----[Epoch: 44, loss: 0.001483, Learning Rate: 0.003000]\n",
      "-----[Epoch: 45, loss: 0.001862, Learning Rate: 0.003000]\n",
      "-----[Epoch: 46, loss: 0.001082, Learning Rate: 0.003000]\n",
      "-----[Epoch: 47, loss: 0.001077, Learning Rate: 0.003000]\n",
      "-----[Epoch: 48, loss: 0.001049, Learning Rate: 0.003000]\n",
      "-----[Epoch: 49, loss: 0.004520, Learning Rate: 0.003000]\n",
      "-----[Epoch: 50, loss: 0.003168, Learning Rate: 0.003000]\n",
      "Finished Training\n"
     ]
    }
   ],
   "source": [
    "def train_model(model, data, epoch,lr):\n",
    "    # define the loss function and back propagation algorithm\n",
    "    criterion = nn.CrossEntropyLoss()\n",
    "    optimizer = torch.optim.SGD(model.parameters(),momentum=0.9, lr = lr ,weight_decay=5e-4)\n",
    "    scheduler = optim.lr_scheduler.MultiStepLR(optimizer, milestones=[50,80], gamma=0.1)\n",
    "\n",
    "    for e in range(epoch):\n",
    "        for param_group in optimizer.param_groups:\n",
    "            lr = param_group['lr']\n",
    "        for i, dataset in enumerate(data):\n",
    "            inputs, lbl = dataset\n",
    "\n",
    "            if torch.cuda.is_available():\n",
    "                inputs, lbl = inputs.cuda(), lbl.cuda()\n",
    "\n",
    "            # set the gradient for each parameters zero\n",
    "            optimizer.zero_grad()\n",
    "            outputs = model(inputs)\n",
    "            loss = criterion(outputs, lbl)\n",
    "            loss.backward()\n",
    "            optimizer.step()\n",
    "        print('-----[Epoch: %d, loss: %f, Learning Rate: %f]' % (e+1, loss.item(),lr  ))\n",
    "        scheduler.step()\n",
    "\n",
    "\n",
    "    print ('Finished Training')\n",
    "\n",
    "\n",
    "if __name__ == '__main__':\n",
    "    cls=classifier()\n",
    "    if torch.cuda.is_available():\n",
    "        cls.cuda()\n",
    "    lr = 0.003\n",
    "    epoch = 50\n",
    "\n",
    "    train_model(cls, trainloader, epoch,lr)\n",
    "\n",
    "    # save model\n",
    "    torch.save(cls.state_dict(), './trained_model.pth')"
   ]
  },
  {
   "cell_type": "code",
   "execution_count": 13,
   "metadata": {},
   "outputs": [
    {
     "name": "stderr",
     "output_type": "stream",
     "text": [
      "\r",
      "  0%|          | 0/10000 [00:00<?, ?it/s]"
     ]
    },
    {
     "name": "stdout",
     "output_type": "stream",
     "text": [
      "Calculating accuracy...\n"
     ]
    },
    {
     "name": "stderr",
     "output_type": "stream",
     "text": [
      "100%|██████████| 10000/10000 [00:30<00:00, 326.37it/s]"
     ]
    },
    {
     "name": "stdout",
     "output_type": "stream",
     "text": [
      "Accuracy:    75 %\n"
     ]
    },
    {
     "name": "stderr",
     "output_type": "stream",
     "text": [
      "\n"
     ]
    }
   ],
   "source": [
    "from tqdm import tqdm\n",
    "import numpy as np\n",
    "\n",
    "def test():\n",
    "    trained_model = './trained_model.pth'\n",
    "    \n",
    "    cls=classifier()\n",
    "    cls.load_state_dict(torch.load(trained_model))\n",
    "    cls.cuda()\n",
    "    cls.eval()\n",
    "\n",
    "    classes = ['Airplane', 'Automobile', 'Bird', 'Cat', 'Deer', 'Dog', 'Frog', 'Horse', 'Ship', 'Truck']\n",
    "\n",
    "    # calculating the accuracy of our classifier;\n",
    "    print(\"Calculating accuracy...\")\n",
    "    correct = 0\n",
    "    total = len(testloader)\n",
    "\n",
    "    with torch.no_grad():\n",
    "        for dataset in tqdm(testloader):\n",
    "            inputs, lbl = dataset\n",
    "\n",
    "            if torch.cuda.is_available():\n",
    "                inputs, lbl = inputs.cuda(), lbl.cuda()\n",
    "            \n",
    "            out = cls(inputs)\n",
    "            _, predicted = torch.max(out, 1)\n",
    "\n",
    "            # calculate the total accuracy\n",
    "            correct += (predicted == lbl).sum().item()\n",
    "        print('Accuracy: %5d %%' % (correct / total * 100))\n",
    "test()"
   ]
  },
  {
   "cell_type": "code",
   "execution_count": null,
   "metadata": {},
   "outputs": [],
   "source": []
  }
 ],
 "metadata": {
  "kernelspec": {
   "display_name": "Python 3",
   "language": "python",
   "name": "python3"
  },
  "language_info": {
   "codemirror_mode": {
    "name": "ipython",
    "version": 3
   },
   "file_extension": ".py",
   "mimetype": "text/x-python",
   "name": "python",
   "nbconvert_exporter": "python",
   "pygments_lexer": "ipython3",
   "version": "3.7.3"
  }
 },
 "nbformat": 4,
 "nbformat_minor": 2
}
