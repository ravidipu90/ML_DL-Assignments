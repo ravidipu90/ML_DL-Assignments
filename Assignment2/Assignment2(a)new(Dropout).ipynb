{
 "cells": [
  {
   "cell_type": "code",
   "execution_count": 1,
   "metadata": {},
   "outputs": [],
   "source": [
    "import pickle\n",
    "import torch\n",
    "import torch.nn as nn\n",
    "import torch.optim as optim\n",
    "from torch.utils.data import DataLoader\n",
    "import torch.nn.functional as F\n",
    "import torchvision.transforms as transforms\n",
    "import torchvision\n",
    "\n",
    "# Function to unpack the cifar-10 dataset.\n",
    "def unpickle(file):\n",
    "    with open(file, 'rb') as file:\n",
    "        data = pickle.load(file, encoding='bytes')\n",
    "    return data[b'data'], data[b'labels']"
   ]
  },
  {
   "cell_type": "code",
   "execution_count": 2,
   "metadata": {},
   "outputs": [],
   "source": [
    "import os\n",
    "from torch.utils.data import Dataset\n",
    "#from utils import unpickle\n",
    "\n",
    "\n",
    "class LoadTrainingData(Dataset):\n",
    "    def __init__(self):\n",
    "        self.trainX = []\n",
    "        self.trainY = []\n",
    "\n",
    "        data_dir = './cifar-10/training batches'\n",
    "        batches = os.listdir(data_dir)\n",
    "\n",
    "        for batch in batches:\n",
    "            batch_data, batch_labels = unpickle(os.path.join(data_dir, batch))\n",
    "            self.trainX.extend(batch_data)\n",
    "            self.trainY.extend(batch_labels)\n",
    "\n",
    "    def __getitem__(self, item):\n",
    "        return self.trainX[item], self.trainY[item]\n",
    "\n",
    "    def __len__(self):\n",
    "        return len(self.trainX)"
   ]
  },
  {
   "cell_type": "code",
   "execution_count": 3,
   "metadata": {},
   "outputs": [
    {
     "name": "stdout",
     "output_type": "stream",
     "text": [
      "Files already downloaded and verified\n",
      "Files already downloaded and verified\n"
     ]
    }
   ],
   "source": [
    "data_dir = './cifar-10/'\n",
    "b_size=128\n",
    "transform_train = transforms.Compose([\n",
    "    transforms.ToTensor(),\n",
    "    transforms.Normalize((0.4914, 0.4822, 0.4465), (0.2023, 0.1994, 0.2010)),\n",
    "])\n",
    "\n",
    "# Normalize the test set same as training set without augmentation\n",
    "transform_test = transforms.Compose([\n",
    "    transforms.ToTensor(),\n",
    "    transforms.Normalize((0.4914, 0.4822, 0.4465), (0.2023, 0.1994, 0.2010)),\n",
    "])\n",
    "\n",
    "trainset = torchvision.datasets.CIFAR10(root=data_dir, train=True, download=True, transform=transform_train)\n",
    "trainloader = torch.utils.data.DataLoader(trainset, batch_size=b_size, shuffle=True, num_workers=2)\n",
    "\n",
    "testset = torchvision.datasets.CIFAR10(root=data_dir, train=False, download=True, transform=transform_test)\n",
    "testloader = torch.utils.data.DataLoader(testset, batch_size=1, shuffle=False, num_workers=2)"
   ]
  },
  {
   "cell_type": "code",
   "execution_count": 11,
   "metadata": {},
   "outputs": [],
   "source": [
    "class classifier(nn.Module):\n",
    "    def __init__(self):\n",
    "        super(classifier, self).__init__()\n",
    "        self.conv1 = nn.Conv2d(3, 16, kernel_size=3,padding=1,stride=1)\n",
    "        self.bn1 = nn.Dropout(.2)\n",
    "        #self.bn1   = nn.BatchNorm2d(16)\n",
    "        self.conv2 = nn.Conv2d(16, 32, kernel_size=3,padding=1,stride=1)\n",
    "        self.bn2 = nn.Dropout(.2)\n",
    "        #self.bn2   = nn.BatchNorm2d(32)\n",
    "        self.conv3 = nn.Conv2d(32, 64, kernel_size=3,padding=1,stride=1)\n",
    "        self.bn3 = nn.Dropout(.2)\n",
    "        #self.bn3   = nn.BatchNorm2d(64)\n",
    "        self.conv4 = nn.Conv2d(64, 128, kernel_size=3,padding=1,stride=1)\n",
    "        self.bn4 = nn.Dropout(.2)\n",
    "        #self.bn4   = nn.BatchNorm2d(128)\n",
    "        self.conv5 = nn.Conv2d(128, 256, kernel_size=3,padding=1,stride=1)\n",
    "        self.bn5 = nn.Dropout(.2)\n",
    "        #self.bn5   = nn.BatchNorm2d(256)\n",
    "        self.conv6 = nn.Conv2d(256, 512, kernel_size=3,padding=1,stride=1)\n",
    "        self.bn6 = nn.Dropout(.2)\n",
    "        #self.bn6   = nn.BatchNorm2d(512)\n",
    "        \n",
    "        self.pool = nn.MaxPool2d(kernel_size=2, stride=2)\n",
    "        self.fc1 = nn.Linear(512, 10)\n",
    "\n",
    "    def forward(self, x):\n",
    "        x = F.relu(self.bn1(self.conv1(x)))\n",
    "        x = self.pool(x)\n",
    "        x = F.relu(self.bn2(self.conv2(x)))\n",
    "        x = self.pool(x)\n",
    "        x = F.relu(self.bn3(self.conv3(x)))\n",
    "        x = self.pool(x)\n",
    "        x = F.relu(self.bn4(self.conv4(x)))\n",
    "        x = self.pool(x)\n",
    "        x = F.relu(self.bn5(self.conv5(x)))\n",
    "        x = self.pool(x)\n",
    "        x = F.relu(self.bn6(self.conv6(x)))\n",
    "\n",
    "        x = x.view(-1,512)\n",
    "        x = self.fc1(x)\n",
    "        return x"
   ]
  },
  {
   "cell_type": "code",
   "execution_count": 12,
   "metadata": {},
   "outputs": [
    {
     "data": {
      "text/plain": [
       "classifier(\n",
       "  (conv1): Conv2d(3, 16, kernel_size=(3, 3), stride=(1, 1), padding=(1, 1))\n",
       "  (bn1): Dropout(p=0.2, inplace=False)\n",
       "  (conv2): Conv2d(16, 32, kernel_size=(3, 3), stride=(1, 1), padding=(1, 1))\n",
       "  (bn2): Dropout(p=0.2, inplace=False)\n",
       "  (conv3): Conv2d(32, 64, kernel_size=(3, 3), stride=(1, 1), padding=(1, 1))\n",
       "  (bn3): Dropout(p=0.2, inplace=False)\n",
       "  (conv4): Conv2d(64, 128, kernel_size=(3, 3), stride=(1, 1), padding=(1, 1))\n",
       "  (bn4): Dropout(p=0.2, inplace=False)\n",
       "  (conv5): Conv2d(128, 256, kernel_size=(3, 3), stride=(1, 1), padding=(1, 1))\n",
       "  (bn5): Dropout(p=0.2, inplace=False)\n",
       "  (conv6): Conv2d(256, 512, kernel_size=(3, 3), stride=(1, 1), padding=(1, 1))\n",
       "  (bn6): Dropout(p=0.2, inplace=False)\n",
       "  (pool): MaxPool2d(kernel_size=2, stride=2, padding=0, dilation=1, ceil_mode=False)\n",
       "  (fc1): Linear(in_features=512, out_features=10, bias=True)\n",
       ")"
      ]
     },
     "execution_count": 12,
     "metadata": {},
     "output_type": "execute_result"
    }
   ],
   "source": [
    "cls=classifier()\n",
    "cls"
   ]
  },
  {
   "cell_type": "code",
   "execution_count": 13,
   "metadata": {},
   "outputs": [
    {
     "name": "stdout",
     "output_type": "stream",
     "text": [
      "-----[Epoch: 1, loss: 1.624695, Learning Rate: 0.003000]\n",
      "-----[Epoch: 2, loss: 1.342104, Learning Rate: 0.003000]\n",
      "-----[Epoch: 3, loss: 1.261615, Learning Rate: 0.003000]\n",
      "-----[Epoch: 4, loss: 1.129289, Learning Rate: 0.003000]\n",
      "-----[Epoch: 5, loss: 0.887101, Learning Rate: 0.003000]\n",
      "-----[Epoch: 6, loss: 1.205705, Learning Rate: 0.003000]\n",
      "-----[Epoch: 7, loss: 0.994810, Learning Rate: 0.003000]\n",
      "-----[Epoch: 8, loss: 1.154659, Learning Rate: 0.003000]\n",
      "-----[Epoch: 9, loss: 1.023527, Learning Rate: 0.003000]\n",
      "-----[Epoch: 10, loss: 0.830233, Learning Rate: 0.003000]\n",
      "-----[Epoch: 11, loss: 1.108516, Learning Rate: 0.003000]\n",
      "-----[Epoch: 12, loss: 0.653348, Learning Rate: 0.003000]\n",
      "-----[Epoch: 13, loss: 0.815416, Learning Rate: 0.003000]\n",
      "-----[Epoch: 14, loss: 0.713525, Learning Rate: 0.003000]\n",
      "-----[Epoch: 15, loss: 0.787405, Learning Rate: 0.003000]\n",
      "-----[Epoch: 16, loss: 0.815726, Learning Rate: 0.003000]\n",
      "-----[Epoch: 17, loss: 0.917937, Learning Rate: 0.003000]\n",
      "-----[Epoch: 18, loss: 0.881596, Learning Rate: 0.003000]\n",
      "-----[Epoch: 19, loss: 0.831477, Learning Rate: 0.003000]\n",
      "-----[Epoch: 20, loss: 0.947980, Learning Rate: 0.003000]\n",
      "-----[Epoch: 21, loss: 1.024192, Learning Rate: 0.003000]\n",
      "-----[Epoch: 22, loss: 0.664121, Learning Rate: 0.003000]\n",
      "-----[Epoch: 23, loss: 1.025599, Learning Rate: 0.003000]\n",
      "-----[Epoch: 24, loss: 0.808611, Learning Rate: 0.003000]\n",
      "-----[Epoch: 25, loss: 0.713773, Learning Rate: 0.003000]\n",
      "-----[Epoch: 26, loss: 1.018102, Learning Rate: 0.003000]\n",
      "-----[Epoch: 27, loss: 0.851537, Learning Rate: 0.003000]\n",
      "-----[Epoch: 28, loss: 0.852357, Learning Rate: 0.003000]\n",
      "-----[Epoch: 29, loss: 0.699091, Learning Rate: 0.003000]\n",
      "-----[Epoch: 30, loss: 0.680308, Learning Rate: 0.003000]\n",
      "-----[Epoch: 31, loss: 0.954321, Learning Rate: 0.003000]\n",
      "-----[Epoch: 32, loss: 0.702174, Learning Rate: 0.003000]\n",
      "-----[Epoch: 33, loss: 0.586746, Learning Rate: 0.003000]\n",
      "-----[Epoch: 34, loss: 0.536330, Learning Rate: 0.003000]\n",
      "-----[Epoch: 35, loss: 0.775185, Learning Rate: 0.003000]\n",
      "-----[Epoch: 36, loss: 0.806137, Learning Rate: 0.003000]\n",
      "-----[Epoch: 37, loss: 0.855012, Learning Rate: 0.003000]\n",
      "-----[Epoch: 38, loss: 0.687122, Learning Rate: 0.003000]\n",
      "-----[Epoch: 39, loss: 0.676340, Learning Rate: 0.003000]\n",
      "-----[Epoch: 40, loss: 0.755317, Learning Rate: 0.003000]\n",
      "-----[Epoch: 41, loss: 0.599986, Learning Rate: 0.003000]\n",
      "-----[Epoch: 42, loss: 0.792997, Learning Rate: 0.003000]\n",
      "-----[Epoch: 43, loss: 0.642272, Learning Rate: 0.003000]\n",
      "-----[Epoch: 44, loss: 1.072043, Learning Rate: 0.003000]\n",
      "-----[Epoch: 45, loss: 0.577876, Learning Rate: 0.003000]\n",
      "-----[Epoch: 46, loss: 0.790872, Learning Rate: 0.003000]\n",
      "-----[Epoch: 47, loss: 0.483726, Learning Rate: 0.003000]\n",
      "-----[Epoch: 48, loss: 0.672226, Learning Rate: 0.003000]\n",
      "-----[Epoch: 49, loss: 0.644262, Learning Rate: 0.003000]\n",
      "-----[Epoch: 50, loss: 0.651341, Learning Rate: 0.003000]\n",
      "Finished Training\n"
     ]
    }
   ],
   "source": [
    "def train_model(model, data, epoch,lr):\n",
    "    # define the loss function and back propagation algorithm\n",
    "    criterion = nn.CrossEntropyLoss()\n",
    "    optimizer = torch.optim.Adam(model.parameters(), lr = lr ,amsgrad=True,weight_decay=5e-4)\n",
    "    scheduler = optim.lr_scheduler.MultiStepLR(optimizer, milestones=[50,80], gamma=0.1)\n",
    "\n",
    "    for e in range(epoch):\n",
    "        for param_group in optimizer.param_groups:\n",
    "            lr = param_group['lr']\n",
    "        for i, dataset in enumerate(data):\n",
    "            inputs, lbl = dataset\n",
    "\n",
    "            if torch.cuda.is_available():\n",
    "                inputs, lbl = inputs.cuda(), lbl.cuda()\n",
    "\n",
    "            # set the gradient for each parameters zero\n",
    "            optimizer.zero_grad()\n",
    "            outputs = model(inputs)\n",
    "            loss = criterion(outputs, lbl)\n",
    "            loss.backward()\n",
    "            optimizer.step()\n",
    "        print('-----[Epoch: %d, loss: %f, Learning Rate: %f]' % (e+1, loss.item(),lr  ))\n",
    "        scheduler.step()\n",
    "\n",
    "\n",
    "    print ('Finished Training')\n",
    "\n",
    "\n",
    "if __name__ == '__main__':\n",
    "    cls=classifier()\n",
    "    if torch.cuda.is_available():\n",
    "        cls.cuda()\n",
    "    lr = 0.003\n",
    "    epoch = 50\n",
    "\n",
    "    train_model(cls, trainloader, epoch,lr)\n",
    "\n",
    "    # save model\n",
    "    torch.save(cls.state_dict(), './trained_model.pth')"
   ]
  },
  {
   "cell_type": "code",
   "execution_count": 14,
   "metadata": {},
   "outputs": [
    {
     "name": "stderr",
     "output_type": "stream",
     "text": [
      "\r",
      "  0%|          | 0/10000 [00:00<?, ?it/s]"
     ]
    },
    {
     "name": "stdout",
     "output_type": "stream",
     "text": [
      "Calculating accuracy...\n"
     ]
    },
    {
     "name": "stderr",
     "output_type": "stream",
     "text": [
      "100%|██████████| 10000/10000 [00:28<00:00, 351.53it/s]"
     ]
    },
    {
     "name": "stdout",
     "output_type": "stream",
     "text": [
      "Accuracy:    75 %\n"
     ]
    },
    {
     "name": "stderr",
     "output_type": "stream",
     "text": [
      "\n"
     ]
    }
   ],
   "source": [
    "from tqdm import tqdm\n",
    "import numpy as np\n",
    "\n",
    "def test():\n",
    "    trained_model = './trained_model.pth'\n",
    "    \n",
    "    cls=classifier()\n",
    "    cls.load_state_dict(torch.load(trained_model))\n",
    "    cls.cuda()\n",
    "    cls.eval()\n",
    "\n",
    "    classes = ['Airplane', 'Automobile', 'Bird', 'Cat', 'Deer', 'Dog', 'Frog', 'Horse', 'Ship', 'Truck']\n",
    "\n",
    "    # calculating the accuracy of our classifier;\n",
    "    print(\"Calculating accuracy...\")\n",
    "    correct = 0\n",
    "    total = len(testloader)\n",
    "\n",
    "    with torch.no_grad():\n",
    "        for dataset in tqdm(testloader):\n",
    "            inputs, lbl = dataset\n",
    "\n",
    "            if torch.cuda.is_available():\n",
    "                inputs, lbl = inputs.cuda(), lbl.cuda()\n",
    "            \n",
    "            out = cls(inputs)\n",
    "            _, predicted = torch.max(out, 1)\n",
    "\n",
    "            # calculate the total accuracy\n",
    "            correct += (predicted == lbl).sum().item()\n",
    "        print('Accuracy: %5d %%' % (correct / total * 100))\n",
    "test()"
   ]
  }
 ],
 "metadata": {
  "kernelspec": {
   "display_name": "Python 3",
   "language": "python",
   "name": "python3"
  },
  "language_info": {
   "codemirror_mode": {
    "name": "ipython",
    "version": 3
   },
   "file_extension": ".py",
   "mimetype": "text/x-python",
   "name": "python",
   "nbconvert_exporter": "python",
   "pygments_lexer": "ipython3",
   "version": "3.7.3"
  }
 },
 "nbformat": 4,
 "nbformat_minor": 2
}
